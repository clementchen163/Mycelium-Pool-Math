{
 "cells": [
  {
   "cell_type": "markdown",
   "metadata": {},
   "source": [
    "# 1 Mycelium Pool Simulation<a id='2_Data_wrangling'></a>"
   ]
  },
  {
   "cell_type": "markdown",
   "metadata": {},
   "source": [
    "## 1.1 Contents<a id='1.1_Contents'></a>\n",
    "* [1 Mycelium Pool Simulation](#1_Mycelium_Pool_Simulation)\n",
    "    * [1.1 Contents](#1.1_Contents)\n",
    "    * [1.2 Introduction](#1.2_Introduction)\n",
    "    * [1.3 Results](#1.3_Results)\n",
    "        * [2.2.1 Recap Of Data Science Problem](#2.2.1_Recap_Of_Data_Science_Problem)\n",
    "        * [2.2.2 Introduction To Notebook](#2.2.2_Introduction_To_Notebook)"
   ]
  },
  {
   "cell_type": "markdown",
   "metadata": {},
   "source": [
    "## 1.2 Introduction<a id='1.2_Introduction'></a>"
   ]
  },
  {
   "cell_type": "markdown",
   "metadata": {},
   "source": [
    "This notebook contains a simulation of the Mycelium Pool that optimizes for minimum use of materials(calcite/pyrophosphite)"
   ]
  },
  {
   "cell_type": "markdown",
   "metadata": {},
   "source": [
    "## 1.3 Results <a id='1.3_Results'></a>"
   ]
  },
  {
   "cell_type": "markdown",
   "metadata": {},
   "source": [
    "The strategy that minimizes material use is to start with **7** materials. If the chemical process doesnt reach completion follow the chart below to determine how many more materials to add"
   ]
  },
  {
   "cell_type": "code",
   "execution_count": null,
   "metadata": {},
   "outputs": [],
   "source": []
  },
  {
   "cell_type": "markdown",
   "metadata": {
    "id": "68lGJh5Swe9L"
   },
   "source": [
    "$k:=$ number of materials left \\\\\n",
    "$t:=$ ticks (or time) left until completion \\\\\n",
    "\n",
    "$$\\newcommand\\cmat{\\boldsymbol{C}}$$\n",
    "\n",
    "We wish to find the cost matrix, $\\cmat$, that describes the expected cost of reaching completion from any point in state space. \\\\\n",
    "Its elements, $\\cmat_{ij}$ are the expected cost of traveling $(k_i,t_j) → (k_{\\geq3}, t_0)$. \\\\\n",
    "\n",
    "\n",
    "We can initialize with known values (as shown below) and set `?` elements as 0.\n"
   ]
  },
  {
   "cell_type": "markdown",
   "metadata": {
    "id": "bOnBxGyAo8c-"
   },
   "source": [
    "$$\n",
    "\\begin{array}{c c} \n",
    "& \\begin{array}{c c c c} t_0 & t_1 & t_2 & \\ldots & t_n \\\\ \\end{array} \\\\\n",
    "\\begin{array}{c c c c} k_0 \\\\ k_1 \\\\ k_2 \\\\ k_3 \\\\ k_4 \\\\ \\vdots \\\\ k_m \\end{array} &\n",
    "\\left[\n",
    "\\begin{array}{c c c}\n",
    "0 & ? & ? & \\ldots & ? \\\\\n",
    "0 & ? & ? & \\ldots & ? \\\\\n",
    "0 & ? & ? & \\ldots & ? \\\\\n",
    "0 & 3 & ? & \\ldots & ? \\\\\n",
    "0 & 4 & ? & \\ldots & ? \\\\\n",
    "\\vdots & \\vdots& \\vdots & \\ddots & ? \\\\\n",
    "0 & m & ? & ? & ?\n",
    "\\end{array}\n",
    "\\right]\n",
    "\\end{array}\n",
    "$$"
   ]
  },
  {
   "cell_type": "markdown",
   "metadata": {
    "id": "8nzFo0G_T7-g"
   },
   "source": [
    "Then solve unknown values by propagating the expected cost formula (shown below) until convergence.\n",
    "\n",
    "For $k\\geq3:$\n",
    "$$\n",
    "\\begin{equation}\n",
    "  C(k,t) = \\frac{2}{3}C(k,t-1) + \\frac{1}{3}(1 + C(k-1,t-1))\n",
    "\\end{equation}\n",
    "$$\n",
    "\n",
    "\\\\\n",
    "\n",
    "For $k < 3$ we rely on Strategy matrix A: \\\\\n",
    "\n",
    "\\\\\n",
    "$$\n",
    "\\begin{equation}\n",
    "  C(k,t) = A[\\text{argmax}_{i}, t + 2\\cdot\\text{strat}] + \\text{strat}\n",
    "\\end{equation}\n",
    "$$"
   ]
  },
  {
   "cell_type": "code",
   "execution_count": 1,
   "metadata": {},
   "outputs": [],
   "source": [
    "import numpy as np\n",
    "import pandas as pd\n",
    "from IPython.display import Image"
   ]
  },
  {
   "cell_type": "code",
   "execution_count": 2,
   "metadata": {
    "id": "WF89j-eBwtRy"
   },
   "outputs": [],
   "source": [
    "def init_cost_mat(shape):\n",
    "    C = np.zeros(shape)\n",
    "    m,n = shape\n",
    "    \n",
    "    C[:,0] = 0 # We're done, no cost!\n",
    "    for i in range(1,n-2):\n",
    "        C[i+2:,i] = np.arange(i+2,n) # These costs are fixed\n",
    "    C[0:2,1:] = 999 # Unable to reach these states\n",
    "    return C"
   ]
  },
  {
   "cell_type": "code",
   "execution_count": 3,
   "metadata": {},
   "outputs": [],
   "source": [
    "def init_strat_mat(shape):\n",
    "    A = np.zeros(shape)\n",
    "    m,n = shape\n",
    "\n",
    "    A[:,0] = 999 # Not able to access the elements where progress is zero (column1)\n",
    "    A[0,:] = 999 # Not able to access the elements where materials to add is 0\n",
    "    A[9:11,:] = 999 # Not able to accress the elements where materials to add is 9 or 10\n",
    "    A[:,10] = 999 # Not able to have current progress == 10 and current materials == 2\n",
    "    return A"
   ]
  },
  {
   "cell_type": "code",
   "execution_count": 4,
   "metadata": {},
   "outputs": [],
   "source": [
    "def update_C(C,A,index):\n",
    "    k,t = index\n",
    "    \n",
    "    if t == 0: # We're done!\n",
    "        pass\n",
    "    elif (k,t) in [(j,i) for i in range(1,9) for j in range(i+2,11)]: # Deterministic cost, we're done!\n",
    "        pass\n",
    "    elif k in (0,1): # Unable to reach these states\n",
    "        pass\n",
    "    elif k == 2: # We go to matrix A when decision needs to be made (k==2) (might need change, not sure if +np.argmin(A[:,t])is needed)\n",
    "        C[k,t] = np.amin(A[:,t]) #+np.argmin(A[:,t]) \n",
    "    elif k >= 3: # No need to make decision, cost will use expected cost formula\n",
    "        C[k,t] = (2/3)*C[k,t-1] + (1/3)*(C[k-1,t-1] + 1) # Expected cost formula\n",
    "    else:\n",
    "        print('Something went wrong when updating C, at least one condition should have been met')\n",
    "    return C"
   ]
  },
  {
   "cell_type": "code",
   "execution_count": 5,
   "metadata": {},
   "outputs": [],
   "source": [
    "def update_A(C, A, index):\n",
    "    k,t = index\n",
    "    \n",
    "    if t == 0: # We're done!\n",
    "        pass\n",
    "    elif t == 10: # Unable to reach this state\n",
    "        pass\n",
    "    elif k in (0,9,10): # Unable to make these decisions\n",
    "        pass\n",
    "    elif k >= 1: # Allowed decision states\n",
    "        A[k,t]= C[k+2, min(t + (2*k),10)] # Expected cost of the decision's landing state + cost of making this decision\n",
    "    else:\n",
    "        print('Something went wrong when updating A, at least one condition should have been met')\n",
    "    return A"
   ]
  },
  {
   "cell_type": "code",
   "execution_count": 6,
   "metadata": {
    "id": "XeapMOo7xGRQ"
   },
   "outputs": [],
   "source": [
    "def step(C,A):\n",
    "    for (k,t), val in np.ndenumerate(C):\n",
    "        C=update_C(C,A,(k,t))\n",
    "        A=update_A(C,A,(k,t))\n",
    "    return C,A"
   ]
  },
  {
   "cell_type": "code",
   "execution_count": 7,
   "metadata": {
    "id": "jiVvyopODTCV"
   },
   "outputs": [],
   "source": [
    "def iterate(C, A, min_iters, threshold):\n",
    "    sse = np.inf # Placeholder init value for sum of squared error\n",
    "    num_iters = 0\n",
    "    while sse > threshold or num_iters < min_iters:\n",
    "        num_iters += 1\n",
    "        old_C = C.copy()\n",
    "        old_A = A.copy()\n",
    "        C, A = step(C, A)\n",
    "        sse_C = ((C - old_C)**2).sum(axis = None) # Sum of squared error of matrix C\n",
    "        sse_A = ((A - old_A)**2).sum(axis = None) # Sum of squared error of matrix A\n",
    "        sse = sse_C + sse_A\n",
    "    return (num_iters, C, A)"
   ]
  },
  {
   "cell_type": "code",
   "execution_count": 8,
   "metadata": {
    "id": "yhLvojHncgAK"
   },
   "outputs": [],
   "source": [
    "def display(M):\n",
    "    # Helper function for displaying the cost/strategy matrix\n",
    "    m, n = M.shape\n",
    "    df = pd.DataFrame(M, \n",
    "                  columns=[f\"t{i}\" for i in range(m)],\n",
    "                  index=[f\"k{i}\" for i in range(n)])\n",
    "    style = df.style \\\n",
    "            .highlight_min(color='green', axis=0) \\\n",
    "            .format(precision=2)\n",
    "    return style"
   ]
  },
  {
   "cell_type": "code",
   "execution_count": 9,
   "metadata": {
    "colab": {
     "base_uri": "https://localhost:8080/",
     "height": 412
    },
    "id": "bjcq23qqX-11",
    "outputId": "00557d50-aab3-4bb6-b87a-896a97479224"
   },
   "outputs": [],
   "source": [
    "shape=(11,11)\n",
    "C = init_cost_mat(shape)\n",
    "A= init_strat_mat(shape)"
   ]
  },
  {
   "cell_type": "code",
   "execution_count": 10,
   "metadata": {},
   "outputs": [
    {
     "data": {
      "text/plain": [
       "array([[  0., 999., 999., 999., 999., 999., 999., 999., 999., 999., 999.],\n",
       "       [  0., 999., 999., 999., 999., 999., 999., 999., 999., 999., 999.],\n",
       "       [  0.,   0.,   0.,   0.,   0.,   0.,   0.,   0.,   0.,   0.,   0.],\n",
       "       [  0.,   3.,   0.,   0.,   0.,   0.,   0.,   0.,   0.,   0.,   0.],\n",
       "       [  0.,   4.,   4.,   0.,   0.,   0.,   0.,   0.,   0.,   0.,   0.],\n",
       "       [  0.,   5.,   5.,   5.,   0.,   0.,   0.,   0.,   0.,   0.,   0.],\n",
       "       [  0.,   6.,   6.,   6.,   6.,   0.,   0.,   0.,   0.,   0.,   0.],\n",
       "       [  0.,   7.,   7.,   7.,   7.,   7.,   0.,   0.,   0.,   0.,   0.],\n",
       "       [  0.,   8.,   8.,   8.,   8.,   8.,   8.,   0.,   0.,   0.,   0.],\n",
       "       [  0.,   9.,   9.,   9.,   9.,   9.,   9.,   9.,   0.,   0.,   0.],\n",
       "       [  0.,  10.,  10.,  10.,  10.,  10.,  10.,  10.,  10.,   0.,   0.]])"
      ]
     },
     "execution_count": 10,
     "metadata": {},
     "output_type": "execute_result"
    }
   ],
   "source": [
    "C"
   ]
  },
  {
   "cell_type": "code",
   "execution_count": 11,
   "metadata": {},
   "outputs": [
    {
     "data": {
      "text/plain": [
       "array([[999., 999., 999., 999., 999., 999., 999., 999., 999., 999., 999.],\n",
       "       [999.,   0.,   0.,   0.,   0.,   0.,   0.,   0.,   0.,   0., 999.],\n",
       "       [999.,   0.,   0.,   0.,   0.,   0.,   0.,   0.,   0.,   0., 999.],\n",
       "       [999.,   0.,   0.,   0.,   0.,   0.,   0.,   0.,   0.,   0., 999.],\n",
       "       [999.,   0.,   0.,   0.,   0.,   0.,   0.,   0.,   0.,   0., 999.],\n",
       "       [999.,   0.,   0.,   0.,   0.,   0.,   0.,   0.,   0.,   0., 999.],\n",
       "       [999.,   0.,   0.,   0.,   0.,   0.,   0.,   0.,   0.,   0., 999.],\n",
       "       [999.,   0.,   0.,   0.,   0.,   0.,   0.,   0.,   0.,   0., 999.],\n",
       "       [999.,   0.,   0.,   0.,   0.,   0.,   0.,   0.,   0.,   0., 999.],\n",
       "       [999., 999., 999., 999., 999., 999., 999., 999., 999., 999., 999.],\n",
       "       [999., 999., 999., 999., 999., 999., 999., 999., 999., 999., 999.]])"
      ]
     },
     "execution_count": 11,
     "metadata": {},
     "output_type": "execute_result"
    }
   ],
   "source": [
    "A"
   ]
  },
  {
   "cell_type": "code",
   "execution_count": 12,
   "metadata": {},
   "outputs": [
    {
     "name": "stdout",
     "output_type": "stream",
     "text": [
      "Matrix C iterated 30 times.\n"
     ]
    },
    {
     "data": {
      "text/html": [
       "<style type=\"text/css\">\n",
       "#T_f05e8_row0_col0, #T_f05e8_row1_col0, #T_f05e8_row2_col0, #T_f05e8_row3_col0, #T_f05e8_row3_col1, #T_f05e8_row3_col2, #T_f05e8_row4_col0, #T_f05e8_row4_col3, #T_f05e8_row4_col4, #T_f05e8_row5_col0, #T_f05e8_row5_col5, #T_f05e8_row5_col6, #T_f05e8_row5_col7, #T_f05e8_row6_col0, #T_f05e8_row6_col8, #T_f05e8_row6_col9, #T_f05e8_row6_col10, #T_f05e8_row7_col0, #T_f05e8_row8_col0, #T_f05e8_row9_col0, #T_f05e8_row10_col0 {\n",
       "  background-color: green;\n",
       "}\n",
       "</style>\n",
       "<table id=\"T_f05e8\">\n",
       "  <thead>\n",
       "    <tr>\n",
       "      <th class=\"blank level0\" >&nbsp;</th>\n",
       "      <th id=\"T_f05e8_level0_col0\" class=\"col_heading level0 col0\" >t0</th>\n",
       "      <th id=\"T_f05e8_level0_col1\" class=\"col_heading level0 col1\" >t1</th>\n",
       "      <th id=\"T_f05e8_level0_col2\" class=\"col_heading level0 col2\" >t2</th>\n",
       "      <th id=\"T_f05e8_level0_col3\" class=\"col_heading level0 col3\" >t3</th>\n",
       "      <th id=\"T_f05e8_level0_col4\" class=\"col_heading level0 col4\" >t4</th>\n",
       "      <th id=\"T_f05e8_level0_col5\" class=\"col_heading level0 col5\" >t5</th>\n",
       "      <th id=\"T_f05e8_level0_col6\" class=\"col_heading level0 col6\" >t6</th>\n",
       "      <th id=\"T_f05e8_level0_col7\" class=\"col_heading level0 col7\" >t7</th>\n",
       "      <th id=\"T_f05e8_level0_col8\" class=\"col_heading level0 col8\" >t8</th>\n",
       "      <th id=\"T_f05e8_level0_col9\" class=\"col_heading level0 col9\" >t9</th>\n",
       "      <th id=\"T_f05e8_level0_col10\" class=\"col_heading level0 col10\" >t10</th>\n",
       "    </tr>\n",
       "  </thead>\n",
       "  <tbody>\n",
       "    <tr>\n",
       "      <th id=\"T_f05e8_level0_row0\" class=\"row_heading level0 row0\" >k0</th>\n",
       "      <td id=\"T_f05e8_row0_col0\" class=\"data row0 col0\" >0.00</td>\n",
       "      <td id=\"T_f05e8_row0_col1\" class=\"data row0 col1\" >999.00</td>\n",
       "      <td id=\"T_f05e8_row0_col2\" class=\"data row0 col2\" >999.00</td>\n",
       "      <td id=\"T_f05e8_row0_col3\" class=\"data row0 col3\" >999.00</td>\n",
       "      <td id=\"T_f05e8_row0_col4\" class=\"data row0 col4\" >999.00</td>\n",
       "      <td id=\"T_f05e8_row0_col5\" class=\"data row0 col5\" >999.00</td>\n",
       "      <td id=\"T_f05e8_row0_col6\" class=\"data row0 col6\" >999.00</td>\n",
       "      <td id=\"T_f05e8_row0_col7\" class=\"data row0 col7\" >999.00</td>\n",
       "      <td id=\"T_f05e8_row0_col8\" class=\"data row0 col8\" >999.00</td>\n",
       "      <td id=\"T_f05e8_row0_col9\" class=\"data row0 col9\" >999.00</td>\n",
       "      <td id=\"T_f05e8_row0_col10\" class=\"data row0 col10\" >999.00</td>\n",
       "    </tr>\n",
       "    <tr>\n",
       "      <th id=\"T_f05e8_level0_row1\" class=\"row_heading level0 row1\" >k1</th>\n",
       "      <td id=\"T_f05e8_row1_col0\" class=\"data row1 col0\" >0.00</td>\n",
       "      <td id=\"T_f05e8_row1_col1\" class=\"data row1 col1\" >999.00</td>\n",
       "      <td id=\"T_f05e8_row1_col2\" class=\"data row1 col2\" >999.00</td>\n",
       "      <td id=\"T_f05e8_row1_col3\" class=\"data row1 col3\" >999.00</td>\n",
       "      <td id=\"T_f05e8_row1_col4\" class=\"data row1 col4\" >999.00</td>\n",
       "      <td id=\"T_f05e8_row1_col5\" class=\"data row1 col5\" >999.00</td>\n",
       "      <td id=\"T_f05e8_row1_col6\" class=\"data row1 col6\" >999.00</td>\n",
       "      <td id=\"T_f05e8_row1_col7\" class=\"data row1 col7\" >999.00</td>\n",
       "      <td id=\"T_f05e8_row1_col8\" class=\"data row1 col8\" >999.00</td>\n",
       "      <td id=\"T_f05e8_row1_col9\" class=\"data row1 col9\" >999.00</td>\n",
       "      <td id=\"T_f05e8_row1_col10\" class=\"data row1 col10\" >999.00</td>\n",
       "    </tr>\n",
       "    <tr>\n",
       "      <th id=\"T_f05e8_level0_row2\" class=\"row_heading level0 row2\" >k2</th>\n",
       "      <td id=\"T_f05e8_row2_col0\" class=\"data row2 col0\" >0.00</td>\n",
       "      <td id=\"T_f05e8_row2_col1\" class=\"data row2 col1\" >4.93</td>\n",
       "      <td id=\"T_f05e8_row2_col2\" class=\"data row2 col2\" >5.83</td>\n",
       "      <td id=\"T_f05e8_row2_col3\" class=\"data row2 col3\" >6.63</td>\n",
       "      <td id=\"T_f05e8_row2_col4\" class=\"data row2 col4\" >7.25</td>\n",
       "      <td id=\"T_f05e8_row2_col5\" class=\"data row2 col5\" >7.47</td>\n",
       "      <td id=\"T_f05e8_row2_col6\" class=\"data row2 col6\" >7.47</td>\n",
       "      <td id=\"T_f05e8_row2_col7\" class=\"data row2 col7\" >7.47</td>\n",
       "      <td id=\"T_f05e8_row2_col8\" class=\"data row2 col8\" >7.47</td>\n",
       "      <td id=\"T_f05e8_row2_col9\" class=\"data row2 col9\" >7.47</td>\n",
       "      <td id=\"T_f05e8_row2_col10\" class=\"data row2 col10\" >999.00</td>\n",
       "    </tr>\n",
       "    <tr>\n",
       "      <th id=\"T_f05e8_level0_row3\" class=\"row_heading level0 row3\" >k3</th>\n",
       "      <td id=\"T_f05e8_row3_col0\" class=\"data row3 col0\" >0.00</td>\n",
       "      <td id=\"T_f05e8_row3_col1\" class=\"data row3 col1\" >3.00</td>\n",
       "      <td id=\"T_f05e8_row3_col2\" class=\"data row3 col2\" >3.98</td>\n",
       "      <td id=\"T_f05e8_row3_col3\" class=\"data row3 col3\" >4.93</td>\n",
       "      <td id=\"T_f05e8_row3_col4\" class=\"data row3 col4\" >5.83</td>\n",
       "      <td id=\"T_f05e8_row3_col5\" class=\"data row3 col5\" >6.63</td>\n",
       "      <td id=\"T_f05e8_row3_col6\" class=\"data row3 col6\" >7.25</td>\n",
       "      <td id=\"T_f05e8_row3_col7\" class=\"data row3 col7\" >7.65</td>\n",
       "      <td id=\"T_f05e8_row3_col8\" class=\"data row3 col8\" >7.92</td>\n",
       "      <td id=\"T_f05e8_row3_col9\" class=\"data row3 col9\" >8.11</td>\n",
       "      <td id=\"T_f05e8_row3_col10\" class=\"data row3 col10\" >8.23</td>\n",
       "    </tr>\n",
       "    <tr>\n",
       "      <th id=\"T_f05e8_level0_row4\" class=\"row_heading level0 row4\" >k4</th>\n",
       "      <td id=\"T_f05e8_row4_col0\" class=\"data row4 col0\" >0.00</td>\n",
       "      <td id=\"T_f05e8_row4_col1\" class=\"data row4 col1\" >4.00</td>\n",
       "      <td id=\"T_f05e8_row4_col2\" class=\"data row4 col2\" >4.00</td>\n",
       "      <td id=\"T_f05e8_row4_col3\" class=\"data row4 col3\" >4.33</td>\n",
       "      <td id=\"T_f05e8_row4_col4\" class=\"data row4 col4\" >4.86</td>\n",
       "      <td id=\"T_f05e8_row4_col5\" class=\"data row4 col5\" >5.52</td>\n",
       "      <td id=\"T_f05e8_row4_col6\" class=\"data row4 col6\" >6.22</td>\n",
       "      <td id=\"T_f05e8_row4_col7\" class=\"data row4 col7\" >6.90</td>\n",
       "      <td id=\"T_f05e8_row4_col8\" class=\"data row4 col8\" >7.48</td>\n",
       "      <td id=\"T_f05e8_row4_col9\" class=\"data row4 col9\" >7.96</td>\n",
       "      <td id=\"T_f05e8_row4_col10\" class=\"data row4 col10\" >8.34</td>\n",
       "    </tr>\n",
       "    <tr>\n",
       "      <th id=\"T_f05e8_level0_row5\" class=\"row_heading level0 row5\" >k5</th>\n",
       "      <td id=\"T_f05e8_row5_col0\" class=\"data row5 col0\" >0.00</td>\n",
       "      <td id=\"T_f05e8_row5_col1\" class=\"data row5 col1\" >5.00</td>\n",
       "      <td id=\"T_f05e8_row5_col2\" class=\"data row5 col2\" >5.00</td>\n",
       "      <td id=\"T_f05e8_row5_col3\" class=\"data row5 col3\" >5.00</td>\n",
       "      <td id=\"T_f05e8_row5_col4\" class=\"data row5 col4\" >5.11</td>\n",
       "      <td id=\"T_f05e8_row5_col5\" class=\"data row5 col5\" >5.36</td>\n",
       "      <td id=\"T_f05e8_row5_col6\" class=\"data row5 col6\" >5.74</td>\n",
       "      <td id=\"T_f05e8_row5_col7\" class=\"data row5 col7\" >6.24</td>\n",
       "      <td id=\"T_f05e8_row5_col8\" class=\"data row5 col8\" >6.79</td>\n",
       "      <td id=\"T_f05e8_row5_col9\" class=\"data row5 col9\" >7.35</td>\n",
       "      <td id=\"T_f05e8_row5_col10\" class=\"data row5 col10\" >7.89</td>\n",
       "    </tr>\n",
       "    <tr>\n",
       "      <th id=\"T_f05e8_level0_row6\" class=\"row_heading level0 row6\" >k6</th>\n",
       "      <td id=\"T_f05e8_row6_col0\" class=\"data row6 col0\" >0.00</td>\n",
       "      <td id=\"T_f05e8_row6_col1\" class=\"data row6 col1\" >6.00</td>\n",
       "      <td id=\"T_f05e8_row6_col2\" class=\"data row6 col2\" >6.00</td>\n",
       "      <td id=\"T_f05e8_row6_col3\" class=\"data row6 col3\" >6.00</td>\n",
       "      <td id=\"T_f05e8_row6_col4\" class=\"data row6 col4\" >6.00</td>\n",
       "      <td id=\"T_f05e8_row6_col5\" class=\"data row6 col5\" >6.04</td>\n",
       "      <td id=\"T_f05e8_row6_col6\" class=\"data row6 col6\" >6.14</td>\n",
       "      <td id=\"T_f05e8_row6_col7\" class=\"data row6 col7\" >6.34</td>\n",
       "      <td id=\"T_f05e8_row6_col8\" class=\"data row6 col8\" >6.64</td>\n",
       "      <td id=\"T_f05e8_row6_col9\" class=\"data row6 col9\" >7.02</td>\n",
       "      <td id=\"T_f05e8_row6_col10\" class=\"data row6 col10\" >7.47</td>\n",
       "    </tr>\n",
       "    <tr>\n",
       "      <th id=\"T_f05e8_level0_row7\" class=\"row_heading level0 row7\" >k7</th>\n",
       "      <td id=\"T_f05e8_row7_col0\" class=\"data row7 col0\" >0.00</td>\n",
       "      <td id=\"T_f05e8_row7_col1\" class=\"data row7 col1\" >7.00</td>\n",
       "      <td id=\"T_f05e8_row7_col2\" class=\"data row7 col2\" >7.00</td>\n",
       "      <td id=\"T_f05e8_row7_col3\" class=\"data row7 col3\" >7.00</td>\n",
       "      <td id=\"T_f05e8_row7_col4\" class=\"data row7 col4\" >7.00</td>\n",
       "      <td id=\"T_f05e8_row7_col5\" class=\"data row7 col5\" >7.00</td>\n",
       "      <td id=\"T_f05e8_row7_col6\" class=\"data row7 col6\" >7.01</td>\n",
       "      <td id=\"T_f05e8_row7_col7\" class=\"data row7 col7\" >7.06</td>\n",
       "      <td id=\"T_f05e8_row7_col8\" class=\"data row7 col8\" >7.15</td>\n",
       "      <td id=\"T_f05e8_row7_col9\" class=\"data row7 col9\" >7.32</td>\n",
       "      <td id=\"T_f05e8_row7_col10\" class=\"data row7 col10\" >7.55</td>\n",
       "    </tr>\n",
       "    <tr>\n",
       "      <th id=\"T_f05e8_level0_row8\" class=\"row_heading level0 row8\" >k8</th>\n",
       "      <td id=\"T_f05e8_row8_col0\" class=\"data row8 col0\" >0.00</td>\n",
       "      <td id=\"T_f05e8_row8_col1\" class=\"data row8 col1\" >8.00</td>\n",
       "      <td id=\"T_f05e8_row8_col2\" class=\"data row8 col2\" >8.00</td>\n",
       "      <td id=\"T_f05e8_row8_col3\" class=\"data row8 col3\" >8.00</td>\n",
       "      <td id=\"T_f05e8_row8_col4\" class=\"data row8 col4\" >8.00</td>\n",
       "      <td id=\"T_f05e8_row8_col5\" class=\"data row8 col5\" >8.00</td>\n",
       "      <td id=\"T_f05e8_row8_col6\" class=\"data row8 col6\" >8.00</td>\n",
       "      <td id=\"T_f05e8_row8_col7\" class=\"data row8 col7\" >8.00</td>\n",
       "      <td id=\"T_f05e8_row8_col8\" class=\"data row8 col8\" >8.02</td>\n",
       "      <td id=\"T_f05e8_row8_col9\" class=\"data row8 col9\" >8.06</td>\n",
       "      <td id=\"T_f05e8_row8_col10\" class=\"data row8 col10\" >8.15</td>\n",
       "    </tr>\n",
       "    <tr>\n",
       "      <th id=\"T_f05e8_level0_row9\" class=\"row_heading level0 row9\" >k9</th>\n",
       "      <td id=\"T_f05e8_row9_col0\" class=\"data row9 col0\" >0.00</td>\n",
       "      <td id=\"T_f05e8_row9_col1\" class=\"data row9 col1\" >9.00</td>\n",
       "      <td id=\"T_f05e8_row9_col2\" class=\"data row9 col2\" >9.00</td>\n",
       "      <td id=\"T_f05e8_row9_col3\" class=\"data row9 col3\" >9.00</td>\n",
       "      <td id=\"T_f05e8_row9_col4\" class=\"data row9 col4\" >9.00</td>\n",
       "      <td id=\"T_f05e8_row9_col5\" class=\"data row9 col5\" >9.00</td>\n",
       "      <td id=\"T_f05e8_row9_col6\" class=\"data row9 col6\" >9.00</td>\n",
       "      <td id=\"T_f05e8_row9_col7\" class=\"data row9 col7\" >9.00</td>\n",
       "      <td id=\"T_f05e8_row9_col8\" class=\"data row9 col8\" >9.00</td>\n",
       "      <td id=\"T_f05e8_row9_col9\" class=\"data row9 col9\" >9.01</td>\n",
       "      <td id=\"T_f05e8_row9_col10\" class=\"data row9 col10\" >9.03</td>\n",
       "    </tr>\n",
       "    <tr>\n",
       "      <th id=\"T_f05e8_level0_row10\" class=\"row_heading level0 row10\" >k10</th>\n",
       "      <td id=\"T_f05e8_row10_col0\" class=\"data row10 col0\" >0.00</td>\n",
       "      <td id=\"T_f05e8_row10_col1\" class=\"data row10 col1\" >10.00</td>\n",
       "      <td id=\"T_f05e8_row10_col2\" class=\"data row10 col2\" >10.00</td>\n",
       "      <td id=\"T_f05e8_row10_col3\" class=\"data row10 col3\" >10.00</td>\n",
       "      <td id=\"T_f05e8_row10_col4\" class=\"data row10 col4\" >10.00</td>\n",
       "      <td id=\"T_f05e8_row10_col5\" class=\"data row10 col5\" >10.00</td>\n",
       "      <td id=\"T_f05e8_row10_col6\" class=\"data row10 col6\" >10.00</td>\n",
       "      <td id=\"T_f05e8_row10_col7\" class=\"data row10 col7\" >10.00</td>\n",
       "      <td id=\"T_f05e8_row10_col8\" class=\"data row10 col8\" >10.00</td>\n",
       "      <td id=\"T_f05e8_row10_col9\" class=\"data row10 col9\" >10.00</td>\n",
       "      <td id=\"T_f05e8_row10_col10\" class=\"data row10 col10\" >10.00</td>\n",
       "    </tr>\n",
       "  </tbody>\n",
       "</table>\n"
      ],
      "text/plain": [
       "<pandas.io.formats.style.Styler at 0x16e0992d6a0>"
      ]
     },
     "execution_count": 12,
     "metadata": {},
     "output_type": "execute_result"
    }
   ],
   "source": [
    "num_iters, C, A = iterate(C, A, 1, 0.000005)\n",
    "print(f\"Matrix C iterated {num_iters} times.\")\n",
    "display(C)"
   ]
  },
  {
   "cell_type": "code",
   "execution_count": 13,
   "metadata": {},
   "outputs": [
    {
     "name": "stdout",
     "output_type": "stream",
     "text": [
      "Matrix A iterated 30 times.\n"
     ]
    },
    {
     "data": {
      "text/html": [
       "<style type=\"text/css\">\n",
       "#T_96461_row0_col0, #T_96461_row0_col10, #T_96461_row1_col0, #T_96461_row1_col1, #T_96461_row1_col2, #T_96461_row1_col3, #T_96461_row1_col4, #T_96461_row1_col10, #T_96461_row2_col0, #T_96461_row2_col10, #T_96461_row3_col0, #T_96461_row3_col10, #T_96461_row4_col0, #T_96461_row4_col5, #T_96461_row4_col6, #T_96461_row4_col7, #T_96461_row4_col8, #T_96461_row4_col9, #T_96461_row4_col10, #T_96461_row5_col0, #T_96461_row5_col10, #T_96461_row6_col0, #T_96461_row6_col10, #T_96461_row7_col0, #T_96461_row7_col10, #T_96461_row8_col0, #T_96461_row8_col10, #T_96461_row9_col0, #T_96461_row9_col10, #T_96461_row10_col0, #T_96461_row10_col10 {\n",
       "  background-color: green;\n",
       "}\n",
       "</style>\n",
       "<table id=\"T_96461\">\n",
       "  <thead>\n",
       "    <tr>\n",
       "      <th class=\"blank level0\" >&nbsp;</th>\n",
       "      <th id=\"T_96461_level0_col0\" class=\"col_heading level0 col0\" >t0</th>\n",
       "      <th id=\"T_96461_level0_col1\" class=\"col_heading level0 col1\" >t1</th>\n",
       "      <th id=\"T_96461_level0_col2\" class=\"col_heading level0 col2\" >t2</th>\n",
       "      <th id=\"T_96461_level0_col3\" class=\"col_heading level0 col3\" >t3</th>\n",
       "      <th id=\"T_96461_level0_col4\" class=\"col_heading level0 col4\" >t4</th>\n",
       "      <th id=\"T_96461_level0_col5\" class=\"col_heading level0 col5\" >t5</th>\n",
       "      <th id=\"T_96461_level0_col6\" class=\"col_heading level0 col6\" >t6</th>\n",
       "      <th id=\"T_96461_level0_col7\" class=\"col_heading level0 col7\" >t7</th>\n",
       "      <th id=\"T_96461_level0_col8\" class=\"col_heading level0 col8\" >t8</th>\n",
       "      <th id=\"T_96461_level0_col9\" class=\"col_heading level0 col9\" >t9</th>\n",
       "      <th id=\"T_96461_level0_col10\" class=\"col_heading level0 col10\" >t10</th>\n",
       "    </tr>\n",
       "  </thead>\n",
       "  <tbody>\n",
       "    <tr>\n",
       "      <th id=\"T_96461_level0_row0\" class=\"row_heading level0 row0\" >k0</th>\n",
       "      <td id=\"T_96461_row0_col0\" class=\"data row0 col0\" >999.00</td>\n",
       "      <td id=\"T_96461_row0_col1\" class=\"data row0 col1\" >999.00</td>\n",
       "      <td id=\"T_96461_row0_col2\" class=\"data row0 col2\" >999.00</td>\n",
       "      <td id=\"T_96461_row0_col3\" class=\"data row0 col3\" >999.00</td>\n",
       "      <td id=\"T_96461_row0_col4\" class=\"data row0 col4\" >999.00</td>\n",
       "      <td id=\"T_96461_row0_col5\" class=\"data row0 col5\" >999.00</td>\n",
       "      <td id=\"T_96461_row0_col6\" class=\"data row0 col6\" >999.00</td>\n",
       "      <td id=\"T_96461_row0_col7\" class=\"data row0 col7\" >999.00</td>\n",
       "      <td id=\"T_96461_row0_col8\" class=\"data row0 col8\" >999.00</td>\n",
       "      <td id=\"T_96461_row0_col9\" class=\"data row0 col9\" >999.00</td>\n",
       "      <td id=\"T_96461_row0_col10\" class=\"data row0 col10\" >999.00</td>\n",
       "    </tr>\n",
       "    <tr>\n",
       "      <th id=\"T_96461_level0_row1\" class=\"row_heading level0 row1\" >k1</th>\n",
       "      <td id=\"T_96461_row1_col0\" class=\"data row1 col0\" >999.00</td>\n",
       "      <td id=\"T_96461_row1_col1\" class=\"data row1 col1\" >4.93</td>\n",
       "      <td id=\"T_96461_row1_col2\" class=\"data row1 col2\" >5.83</td>\n",
       "      <td id=\"T_96461_row1_col3\" class=\"data row1 col3\" >6.63</td>\n",
       "      <td id=\"T_96461_row1_col4\" class=\"data row1 col4\" >7.25</td>\n",
       "      <td id=\"T_96461_row1_col5\" class=\"data row1 col5\" >7.65</td>\n",
       "      <td id=\"T_96461_row1_col6\" class=\"data row1 col6\" >7.92</td>\n",
       "      <td id=\"T_96461_row1_col7\" class=\"data row1 col7\" >8.10</td>\n",
       "      <td id=\"T_96461_row1_col8\" class=\"data row1 col8\" >8.23</td>\n",
       "      <td id=\"T_96461_row1_col9\" class=\"data row1 col9\" >8.23</td>\n",
       "      <td id=\"T_96461_row1_col10\" class=\"data row1 col10\" >999.00</td>\n",
       "    </tr>\n",
       "    <tr>\n",
       "      <th id=\"T_96461_level0_row2\" class=\"row_heading level0 row2\" >k2</th>\n",
       "      <td id=\"T_96461_row2_col0\" class=\"data row2 col0\" >999.00</td>\n",
       "      <td id=\"T_96461_row2_col1\" class=\"data row2 col1\" >5.52</td>\n",
       "      <td id=\"T_96461_row2_col2\" class=\"data row2 col2\" >6.22</td>\n",
       "      <td id=\"T_96461_row2_col3\" class=\"data row2 col3\" >6.90</td>\n",
       "      <td id=\"T_96461_row2_col4\" class=\"data row2 col4\" >7.48</td>\n",
       "      <td id=\"T_96461_row2_col5\" class=\"data row2 col5\" >7.96</td>\n",
       "      <td id=\"T_96461_row2_col6\" class=\"data row2 col6\" >8.34</td>\n",
       "      <td id=\"T_96461_row2_col7\" class=\"data row2 col7\" >8.34</td>\n",
       "      <td id=\"T_96461_row2_col8\" class=\"data row2 col8\" >8.34</td>\n",
       "      <td id=\"T_96461_row2_col9\" class=\"data row2 col9\" >8.34</td>\n",
       "      <td id=\"T_96461_row2_col10\" class=\"data row2 col10\" >999.00</td>\n",
       "    </tr>\n",
       "    <tr>\n",
       "      <th id=\"T_96461_level0_row3\" class=\"row_heading level0 row3\" >k3</th>\n",
       "      <td id=\"T_96461_row3_col0\" class=\"data row3 col0\" >999.00</td>\n",
       "      <td id=\"T_96461_row3_col1\" class=\"data row3 col1\" >6.24</td>\n",
       "      <td id=\"T_96461_row3_col2\" class=\"data row3 col2\" >6.79</td>\n",
       "      <td id=\"T_96461_row3_col3\" class=\"data row3 col3\" >7.35</td>\n",
       "      <td id=\"T_96461_row3_col4\" class=\"data row3 col4\" >7.89</td>\n",
       "      <td id=\"T_96461_row3_col5\" class=\"data row3 col5\" >7.89</td>\n",
       "      <td id=\"T_96461_row3_col6\" class=\"data row3 col6\" >7.89</td>\n",
       "      <td id=\"T_96461_row3_col7\" class=\"data row3 col7\" >7.89</td>\n",
       "      <td id=\"T_96461_row3_col8\" class=\"data row3 col8\" >7.89</td>\n",
       "      <td id=\"T_96461_row3_col9\" class=\"data row3 col9\" >7.89</td>\n",
       "      <td id=\"T_96461_row3_col10\" class=\"data row3 col10\" >999.00</td>\n",
       "    </tr>\n",
       "    <tr>\n",
       "      <th id=\"T_96461_level0_row4\" class=\"row_heading level0 row4\" >k4</th>\n",
       "      <td id=\"T_96461_row4_col0\" class=\"data row4 col0\" >999.00</td>\n",
       "      <td id=\"T_96461_row4_col1\" class=\"data row4 col1\" >7.02</td>\n",
       "      <td id=\"T_96461_row4_col2\" class=\"data row4 col2\" >7.47</td>\n",
       "      <td id=\"T_96461_row4_col3\" class=\"data row4 col3\" >7.47</td>\n",
       "      <td id=\"T_96461_row4_col4\" class=\"data row4 col4\" >7.47</td>\n",
       "      <td id=\"T_96461_row4_col5\" class=\"data row4 col5\" >7.47</td>\n",
       "      <td id=\"T_96461_row4_col6\" class=\"data row4 col6\" >7.47</td>\n",
       "      <td id=\"T_96461_row4_col7\" class=\"data row4 col7\" >7.47</td>\n",
       "      <td id=\"T_96461_row4_col8\" class=\"data row4 col8\" >7.47</td>\n",
       "      <td id=\"T_96461_row4_col9\" class=\"data row4 col9\" >7.47</td>\n",
       "      <td id=\"T_96461_row4_col10\" class=\"data row4 col10\" >999.00</td>\n",
       "    </tr>\n",
       "    <tr>\n",
       "      <th id=\"T_96461_level0_row5\" class=\"row_heading level0 row5\" >k5</th>\n",
       "      <td id=\"T_96461_row5_col0\" class=\"data row5 col0\" >999.00</td>\n",
       "      <td id=\"T_96461_row5_col1\" class=\"data row5 col1\" >7.55</td>\n",
       "      <td id=\"T_96461_row5_col2\" class=\"data row5 col2\" >7.55</td>\n",
       "      <td id=\"T_96461_row5_col3\" class=\"data row5 col3\" >7.55</td>\n",
       "      <td id=\"T_96461_row5_col4\" class=\"data row5 col4\" >7.55</td>\n",
       "      <td id=\"T_96461_row5_col5\" class=\"data row5 col5\" >7.55</td>\n",
       "      <td id=\"T_96461_row5_col6\" class=\"data row5 col6\" >7.55</td>\n",
       "      <td id=\"T_96461_row5_col7\" class=\"data row5 col7\" >7.55</td>\n",
       "      <td id=\"T_96461_row5_col8\" class=\"data row5 col8\" >7.55</td>\n",
       "      <td id=\"T_96461_row5_col9\" class=\"data row5 col9\" >7.55</td>\n",
       "      <td id=\"T_96461_row5_col10\" class=\"data row5 col10\" >999.00</td>\n",
       "    </tr>\n",
       "    <tr>\n",
       "      <th id=\"T_96461_level0_row6\" class=\"row_heading level0 row6\" >k6</th>\n",
       "      <td id=\"T_96461_row6_col0\" class=\"data row6 col0\" >999.00</td>\n",
       "      <td id=\"T_96461_row6_col1\" class=\"data row6 col1\" >8.15</td>\n",
       "      <td id=\"T_96461_row6_col2\" class=\"data row6 col2\" >8.15</td>\n",
       "      <td id=\"T_96461_row6_col3\" class=\"data row6 col3\" >8.15</td>\n",
       "      <td id=\"T_96461_row6_col4\" class=\"data row6 col4\" >8.15</td>\n",
       "      <td id=\"T_96461_row6_col5\" class=\"data row6 col5\" >8.15</td>\n",
       "      <td id=\"T_96461_row6_col6\" class=\"data row6 col6\" >8.15</td>\n",
       "      <td id=\"T_96461_row6_col7\" class=\"data row6 col7\" >8.15</td>\n",
       "      <td id=\"T_96461_row6_col8\" class=\"data row6 col8\" >8.15</td>\n",
       "      <td id=\"T_96461_row6_col9\" class=\"data row6 col9\" >8.15</td>\n",
       "      <td id=\"T_96461_row6_col10\" class=\"data row6 col10\" >999.00</td>\n",
       "    </tr>\n",
       "    <tr>\n",
       "      <th id=\"T_96461_level0_row7\" class=\"row_heading level0 row7\" >k7</th>\n",
       "      <td id=\"T_96461_row7_col0\" class=\"data row7 col0\" >999.00</td>\n",
       "      <td id=\"T_96461_row7_col1\" class=\"data row7 col1\" >9.03</td>\n",
       "      <td id=\"T_96461_row7_col2\" class=\"data row7 col2\" >9.03</td>\n",
       "      <td id=\"T_96461_row7_col3\" class=\"data row7 col3\" >9.03</td>\n",
       "      <td id=\"T_96461_row7_col4\" class=\"data row7 col4\" >9.03</td>\n",
       "      <td id=\"T_96461_row7_col5\" class=\"data row7 col5\" >9.03</td>\n",
       "      <td id=\"T_96461_row7_col6\" class=\"data row7 col6\" >9.03</td>\n",
       "      <td id=\"T_96461_row7_col7\" class=\"data row7 col7\" >9.03</td>\n",
       "      <td id=\"T_96461_row7_col8\" class=\"data row7 col8\" >9.03</td>\n",
       "      <td id=\"T_96461_row7_col9\" class=\"data row7 col9\" >9.03</td>\n",
       "      <td id=\"T_96461_row7_col10\" class=\"data row7 col10\" >999.00</td>\n",
       "    </tr>\n",
       "    <tr>\n",
       "      <th id=\"T_96461_level0_row8\" class=\"row_heading level0 row8\" >k8</th>\n",
       "      <td id=\"T_96461_row8_col0\" class=\"data row8 col0\" >999.00</td>\n",
       "      <td id=\"T_96461_row8_col1\" class=\"data row8 col1\" >10.00</td>\n",
       "      <td id=\"T_96461_row8_col2\" class=\"data row8 col2\" >10.00</td>\n",
       "      <td id=\"T_96461_row8_col3\" class=\"data row8 col3\" >10.00</td>\n",
       "      <td id=\"T_96461_row8_col4\" class=\"data row8 col4\" >10.00</td>\n",
       "      <td id=\"T_96461_row8_col5\" class=\"data row8 col5\" >10.00</td>\n",
       "      <td id=\"T_96461_row8_col6\" class=\"data row8 col6\" >10.00</td>\n",
       "      <td id=\"T_96461_row8_col7\" class=\"data row8 col7\" >10.00</td>\n",
       "      <td id=\"T_96461_row8_col8\" class=\"data row8 col8\" >10.00</td>\n",
       "      <td id=\"T_96461_row8_col9\" class=\"data row8 col9\" >10.00</td>\n",
       "      <td id=\"T_96461_row8_col10\" class=\"data row8 col10\" >999.00</td>\n",
       "    </tr>\n",
       "    <tr>\n",
       "      <th id=\"T_96461_level0_row9\" class=\"row_heading level0 row9\" >k9</th>\n",
       "      <td id=\"T_96461_row9_col0\" class=\"data row9 col0\" >999.00</td>\n",
       "      <td id=\"T_96461_row9_col1\" class=\"data row9 col1\" >999.00</td>\n",
       "      <td id=\"T_96461_row9_col2\" class=\"data row9 col2\" >999.00</td>\n",
       "      <td id=\"T_96461_row9_col3\" class=\"data row9 col3\" >999.00</td>\n",
       "      <td id=\"T_96461_row9_col4\" class=\"data row9 col4\" >999.00</td>\n",
       "      <td id=\"T_96461_row9_col5\" class=\"data row9 col5\" >999.00</td>\n",
       "      <td id=\"T_96461_row9_col6\" class=\"data row9 col6\" >999.00</td>\n",
       "      <td id=\"T_96461_row9_col7\" class=\"data row9 col7\" >999.00</td>\n",
       "      <td id=\"T_96461_row9_col8\" class=\"data row9 col8\" >999.00</td>\n",
       "      <td id=\"T_96461_row9_col9\" class=\"data row9 col9\" >999.00</td>\n",
       "      <td id=\"T_96461_row9_col10\" class=\"data row9 col10\" >999.00</td>\n",
       "    </tr>\n",
       "    <tr>\n",
       "      <th id=\"T_96461_level0_row10\" class=\"row_heading level0 row10\" >k10</th>\n",
       "      <td id=\"T_96461_row10_col0\" class=\"data row10 col0\" >999.00</td>\n",
       "      <td id=\"T_96461_row10_col1\" class=\"data row10 col1\" >999.00</td>\n",
       "      <td id=\"T_96461_row10_col2\" class=\"data row10 col2\" >999.00</td>\n",
       "      <td id=\"T_96461_row10_col3\" class=\"data row10 col3\" >999.00</td>\n",
       "      <td id=\"T_96461_row10_col4\" class=\"data row10 col4\" >999.00</td>\n",
       "      <td id=\"T_96461_row10_col5\" class=\"data row10 col5\" >999.00</td>\n",
       "      <td id=\"T_96461_row10_col6\" class=\"data row10 col6\" >999.00</td>\n",
       "      <td id=\"T_96461_row10_col7\" class=\"data row10 col7\" >999.00</td>\n",
       "      <td id=\"T_96461_row10_col8\" class=\"data row10 col8\" >999.00</td>\n",
       "      <td id=\"T_96461_row10_col9\" class=\"data row10 col9\" >999.00</td>\n",
       "      <td id=\"T_96461_row10_col10\" class=\"data row10 col10\" >999.00</td>\n",
       "    </tr>\n",
       "  </tbody>\n",
       "</table>\n"
      ],
      "text/plain": [
       "<pandas.io.formats.style.Styler at 0x16e08877280>"
      ]
     },
     "execution_count": 13,
     "metadata": {},
     "output_type": "execute_result"
    }
   ],
   "source": [
    "print(f\"Matrix A iterated {num_iters} times.\")\n",
    "display(A)"
   ]
  },
  {
   "cell_type": "code",
   "execution_count": null,
   "metadata": {},
   "outputs": [],
   "source": []
  }
 ],
 "metadata": {
  "colab": {
   "collapsed_sections": [],
   "provenance": []
  },
  "kernelspec": {
   "display_name": "Python 3",
   "language": "python",
   "name": "python3"
  },
  "language_info": {
   "codemirror_mode": {
    "name": "ipython",
    "version": 3
   },
   "file_extension": ".py",
   "mimetype": "text/x-python",
   "name": "python",
   "nbconvert_exporter": "python",
   "pygments_lexer": "ipython3",
   "version": "3.8.3"
  }
 },
 "nbformat": 4,
 "nbformat_minor": 1
}
