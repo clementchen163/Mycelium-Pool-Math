{
 "cells": [
  {
   "cell_type": "code",
   "execution_count": 1,
   "metadata": {
    "id": "qTuJagCo-vrS"
   },
   "outputs": [],
   "source": [
    "import numpy as np\n",
    "import pandas as pd"
   ]
  },
  {
   "cell_type": "markdown",
   "metadata": {
    "id": "68lGJh5Swe9L"
   },
   "source": [
    "$k:=$ number of materials left \\\\\n",
    "$t:=$ ticks (or time) left until completion \\\\\n",
    "\n",
    "$$\\newcommand\\cmat{\\boldsymbol{C}}$$\n",
    "\n",
    "We wish to find the cost matrix, $\\cmat$, that describes the expected cost of reaching completion from any point in state space. \\\\\n",
    "Its elements, $\\cmat_{ij}$ are the expected cost of traveling $(k_i,t_j) → (k_{\\geq3}, t_0)$. \\\\\n",
    "\n",
    "\n",
    "We can initialize with known values (as shown below) and set `?` elements as 0.\n"
   ]
  },
  {
   "cell_type": "markdown",
   "metadata": {
    "id": "bOnBxGyAo8c-"
   },
   "source": [
    "$$\n",
    "\\begin{array}{c c} \n",
    "& \\begin{array}{c c c c} t_0 & t_1 & t_2 & \\ldots & t_n \\\\ \\end{array} \\\\\n",
    "\\begin{array}{c c c c} k_0 \\\\ k_1 \\\\ k_2 \\\\ k_3 \\\\ k_4 \\\\ \\vdots \\\\ k_m \\end{array} &\n",
    "\\left[\n",
    "\\begin{array}{c c c}\n",
    "0 & ? & ? & \\ldots & ? \\\\\n",
    "0 & ? & ? & \\ldots & ? \\\\\n",
    "0 & ? & ? & \\ldots & ? \\\\\n",
    "0 & 3 & ? & \\ldots & ? \\\\\n",
    "0 & 4 & ? & \\ldots & ? \\\\\n",
    "\\vdots & \\vdots& \\vdots & \\ddots & ? \\\\\n",
    "0 & m & ? & ? & ?\n",
    "\\end{array}\n",
    "\\right]\n",
    "\\end{array}\n",
    "$$"
   ]
  },
  {
   "cell_type": "markdown",
   "metadata": {
    "id": "8nzFo0G_T7-g"
   },
   "source": [
    "Then solve unknown values by propagating the expected cost formula (shown below) until convergence.\n",
    "\n",
    "For $k\\geq3:$\n",
    "$$\n",
    "\\begin{equation}\n",
    "  C(k,t) = \\frac{2}{3}C(k,t-1) + \\frac{1}{3}(1 + C(k-1,t-1))\n",
    "\\end{equation}\n",
    "$$\n",
    "\n",
    "\\\\\n",
    "\n",
    "For $k < 3$ we rely on Strategy matrix A: \\\\\n",
    "\n",
    "\\\\\n",
    "$$\n",
    "\\begin{equation}\n",
    "  C(k,t) = A[\\text{argmax}_{i}, t + 2\\cdot\\text{strat}] + \\text{strat}\n",
    "\\end{equation}\n",
    "$$"
   ]
  },
  {
   "cell_type": "code",
   "execution_count": 2,
   "metadata": {
    "id": "WF89j-eBwtRy"
   },
   "outputs": [],
   "source": [
    "def init_cost_mat(shape):\n",
    "    C = np.zeros(shape)\n",
    "    m,n = shape\n",
    "    \n",
    "    C[:,0] = 0 # We're done, no cost!\n",
    "    for i in range(1,n-2):\n",
    "        C[i+2:,i] = np.arange(i+2,n) # These costs are fixed\n",
    "    C[0:2,1:] = 999 # Unable to reach these states\n",
    "    return C"
   ]
  },
  {
   "cell_type": "code",
   "execution_count": 3,
   "metadata": {},
   "outputs": [],
   "source": [
    "def init_strat_mat(shape):\n",
    "    A = np.zeros(shape)\n",
    "    m,n = shape\n",
    "\n",
    "    A[:,0] = 999 # Not able to access the elements where progress is zero (column1)\n",
    "    A[0,:] = 999 # Not able to access the elements where materials to add is 0\n",
    "    A[9:11,:] = 999 # Not able to accress the elements where materials to add is 9 or 10\n",
    "    A[:,10] = 999 # Not able to have current progress == 10 and current materials == 2\n",
    "    return A"
   ]
  },
  {
   "cell_type": "code",
   "execution_count": 4,
   "metadata": {},
   "outputs": [],
   "source": [
    "def update_C(C,A,index):\n",
    "    k,t = index\n",
    "    \n",
    "    if t == 0: # We're done!\n",
    "        pass\n",
    "    elif [k,t] in np.transpose(np.nonzero(C)).tolist(): # Deterministic cost, we're done!\n",
    "        pass\n",
    "    elif k in (0,1): # Unable to reach these states\n",
    "        pass\n",
    "    elif k == 2: # We go to matrix A when decision needs to be made (k==2) (might need change, not sure if +np.argmin(A[:,t])is needed)\n",
    "        C[k,t] = np.amin(A[:,t]) \n",
    "    elif k >= 3: # No need to make decision, cost will use expected cost formula\n",
    "        C[k,t] = (2/3)*C[k,t-1] + (1/3)*(C[k-1,t-1] + 1) # Expected cost formula\n",
    "    else:\n",
    "        print('Something went wrong when updating C, at least one condition should have been met')\n",
    "    return C"
   ]
  },
  {
   "cell_type": "code",
   "execution_count": 5,
   "metadata": {},
   "outputs": [],
   "source": [
    "def update_A(C, A, index):\n",
    "    k,t = index\n",
    "    \n",
    "    if t == 0: # We're done!\n",
    "        pass\n",
    "    elif t == 10: # Unable to reach this state\n",
    "        pass\n",
    "    elif k in (0,9,10): # Unable to make these decisions\n",
    "        pass\n",
    "    elif k >= 1: # Allowed decision states\n",
    "        A[k,t]= C[k+2, min(t + (2*k),10)] + k # Expected cost of the decision's landing state + cost of making this decision\n",
    "    else:\n",
    "        print('Something went wrong when updating A, at least one condition should have been met')\n",
    "    return A"
   ]
  },
  {
   "cell_type": "code",
   "execution_count": 6,
   "metadata": {
    "id": "XeapMOo7xGRQ"
   },
   "outputs": [],
   "source": [
    "def step(C,A):\n",
    "    max_k, max_t = C.shape\n",
    "    \n",
    "    for (k,t), val in np.ndenumerate(C):\n",
    "        C=update_C(C,A,(k,t))\n",
    "        A=update_A(C,A,(k,t))\n",
    "    return C,A"
   ]
  },
  {
   "cell_type": "code",
   "execution_count": 20,
   "metadata": {
    "id": "jiVvyopODTCV"
   },
   "outputs": [],
   "source": [
    "def iterate(C, A, min_iters, threshold):\n",
    "    sse = np.inf # Placeholder init value for sum of squared error\n",
    "    num_iters = 0\n",
    "    while sse > threshold or num_iters < min_iters:\n",
    "        num_iters += 1\n",
    "        old_C = C.copy()\n",
    "        old_A = A.copy()\n",
    "        C, A = step(C, A)\n",
    "        sse_C = ((C - old_C)**2).sum(axis = None) # Sum of squared error of matrix C\n",
    "        sse_A = ((A - old_A)**2).sum(axis = None) # Sum of squared error of matrix A\n",
    "        sse = sse_C + sse_A\n",
    "    return (num_iters, C, A)"
   ]
  },
  {
   "cell_type": "code",
   "execution_count": 21,
   "metadata": {
    "id": "yhLvojHncgAK"
   },
   "outputs": [],
   "source": [
    "def display(M):\n",
    "    # Helper function for displaying the cost/strategy matrix\n",
    "    m, n = M.shape\n",
    "    df = pd.DataFrame(M, \n",
    "                  columns=[f\"t{i}\" for i in range(m)],\n",
    "                  index=[f\"k{i}\" for i in range(n)])\n",
    "    style = df.style \\\n",
    "            .highlight_min(color='green', axis=0) \\\n",
    "            .format(precision=2)\n",
    "    return style"
   ]
  },
  {
   "cell_type": "code",
   "execution_count": 25,
   "metadata": {
    "colab": {
     "base_uri": "https://localhost:8080/",
     "height": 412
    },
    "id": "bjcq23qqX-11",
    "outputId": "00557d50-aab3-4bb6-b87a-896a97479224"
   },
   "outputs": [],
   "source": [
    "shape=(11,11)\n",
    "C = init_cost_mat(shape)\n",
    "A= init_strat_mat(shape)"
   ]
  },
  {
   "cell_type": "code",
   "execution_count": 26,
   "metadata": {},
   "outputs": [
    {
     "data": {
      "text/plain": [
       "array([[  0., 999., 999., 999., 999., 999., 999., 999., 999., 999., 999.],\n",
       "       [  0., 999., 999., 999., 999., 999., 999., 999., 999., 999., 999.],\n",
       "       [  0.,   0.,   0.,   0.,   0.,   0.,   0.,   0.,   0.,   0.,   0.],\n",
       "       [  0.,   3.,   0.,   0.,   0.,   0.,   0.,   0.,   0.,   0.,   0.],\n",
       "       [  0.,   4.,   4.,   0.,   0.,   0.,   0.,   0.,   0.,   0.,   0.],\n",
       "       [  0.,   5.,   5.,   5.,   0.,   0.,   0.,   0.,   0.,   0.,   0.],\n",
       "       [  0.,   6.,   6.,   6.,   6.,   0.,   0.,   0.,   0.,   0.,   0.],\n",
       "       [  0.,   7.,   7.,   7.,   7.,   7.,   0.,   0.,   0.,   0.,   0.],\n",
       "       [  0.,   8.,   8.,   8.,   8.,   8.,   8.,   0.,   0.,   0.,   0.],\n",
       "       [  0.,   9.,   9.,   9.,   9.,   9.,   9.,   9.,   0.,   0.,   0.],\n",
       "       [  0.,  10.,  10.,  10.,  10.,  10.,  10.,  10.,  10.,   0.,   0.]])"
      ]
     },
     "execution_count": 26,
     "metadata": {},
     "output_type": "execute_result"
    }
   ],
   "source": [
    "C"
   ]
  },
  {
   "cell_type": "code",
   "execution_count": 27,
   "metadata": {},
   "outputs": [
    {
     "data": {
      "text/plain": [
       "array([[999., 999., 999., 999., 999., 999., 999., 999., 999., 999., 999.],\n",
       "       [999.,   0.,   0.,   0.,   0.,   0.,   0.,   0.,   0.,   0., 999.],\n",
       "       [999.,   0.,   0.,   0.,   0.,   0.,   0.,   0.,   0.,   0., 999.],\n",
       "       [999.,   0.,   0.,   0.,   0.,   0.,   0.,   0.,   0.,   0., 999.],\n",
       "       [999.,   0.,   0.,   0.,   0.,   0.,   0.,   0.,   0.,   0., 999.],\n",
       "       [999.,   0.,   0.,   0.,   0.,   0.,   0.,   0.,   0.,   0., 999.],\n",
       "       [999.,   0.,   0.,   0.,   0.,   0.,   0.,   0.,   0.,   0., 999.],\n",
       "       [999.,   0.,   0.,   0.,   0.,   0.,   0.,   0.,   0.,   0., 999.],\n",
       "       [999.,   0.,   0.,   0.,   0.,   0.,   0.,   0.,   0.,   0., 999.],\n",
       "       [999., 999., 999., 999., 999., 999., 999., 999., 999., 999., 999.],\n",
       "       [999., 999., 999., 999., 999., 999., 999., 999., 999., 999., 999.]])"
      ]
     },
     "execution_count": 27,
     "metadata": {},
     "output_type": "execute_result"
    }
   ],
   "source": [
    "A"
   ]
  },
  {
   "cell_type": "code",
   "execution_count": 30,
   "metadata": {},
   "outputs": [
    {
     "name": "stdout",
     "output_type": "stream",
     "text": [
      "This iterated 1000 times.\n"
     ]
    },
    {
     "data": {
      "text/html": [
       "<style type=\"text/css\">\n",
       "#T_a3a8c_row0_col0, #T_a3a8c_row1_col0, #T_a3a8c_row2_col0, #T_a3a8c_row2_col1, #T_a3a8c_row2_col2, #T_a3a8c_row3_col0, #T_a3a8c_row3_col3, #T_a3a8c_row3_col4, #T_a3a8c_row3_col5, #T_a3a8c_row3_col6, #T_a3a8c_row3_col7, #T_a3a8c_row3_col8, #T_a3a8c_row3_col9, #T_a3a8c_row3_col10, #T_a3a8c_row4_col0, #T_a3a8c_row5_col0, #T_a3a8c_row6_col0, #T_a3a8c_row7_col0, #T_a3a8c_row8_col0, #T_a3a8c_row9_col0, #T_a3a8c_row10_col0 {\n",
       "  background-color: green;\n",
       "}\n",
       "</style>\n",
       "<table id=\"T_a3a8c\">\n",
       "  <thead>\n",
       "    <tr>\n",
       "      <th class=\"blank level0\" >&nbsp;</th>\n",
       "      <th id=\"T_a3a8c_level0_col0\" class=\"col_heading level0 col0\" >t0</th>\n",
       "      <th id=\"T_a3a8c_level0_col1\" class=\"col_heading level0 col1\" >t1</th>\n",
       "      <th id=\"T_a3a8c_level0_col2\" class=\"col_heading level0 col2\" >t2</th>\n",
       "      <th id=\"T_a3a8c_level0_col3\" class=\"col_heading level0 col3\" >t3</th>\n",
       "      <th id=\"T_a3a8c_level0_col4\" class=\"col_heading level0 col4\" >t4</th>\n",
       "      <th id=\"T_a3a8c_level0_col5\" class=\"col_heading level0 col5\" >t5</th>\n",
       "      <th id=\"T_a3a8c_level0_col6\" class=\"col_heading level0 col6\" >t6</th>\n",
       "      <th id=\"T_a3a8c_level0_col7\" class=\"col_heading level0 col7\" >t7</th>\n",
       "      <th id=\"T_a3a8c_level0_col8\" class=\"col_heading level0 col8\" >t8</th>\n",
       "      <th id=\"T_a3a8c_level0_col9\" class=\"col_heading level0 col9\" >t9</th>\n",
       "      <th id=\"T_a3a8c_level0_col10\" class=\"col_heading level0 col10\" >t10</th>\n",
       "    </tr>\n",
       "  </thead>\n",
       "  <tbody>\n",
       "    <tr>\n",
       "      <th id=\"T_a3a8c_level0_row0\" class=\"row_heading level0 row0\" >k0</th>\n",
       "      <td id=\"T_a3a8c_row0_col0\" class=\"data row0 col0\" >0.00</td>\n",
       "      <td id=\"T_a3a8c_row0_col1\" class=\"data row0 col1\" >999.00</td>\n",
       "      <td id=\"T_a3a8c_row0_col2\" class=\"data row0 col2\" >999.00</td>\n",
       "      <td id=\"T_a3a8c_row0_col3\" class=\"data row0 col3\" >999.00</td>\n",
       "      <td id=\"T_a3a8c_row0_col4\" class=\"data row0 col4\" >999.00</td>\n",
       "      <td id=\"T_a3a8c_row0_col5\" class=\"data row0 col5\" >999.00</td>\n",
       "      <td id=\"T_a3a8c_row0_col6\" class=\"data row0 col6\" >999.00</td>\n",
       "      <td id=\"T_a3a8c_row0_col7\" class=\"data row0 col7\" >999.00</td>\n",
       "      <td id=\"T_a3a8c_row0_col8\" class=\"data row0 col8\" >999.00</td>\n",
       "      <td id=\"T_a3a8c_row0_col9\" class=\"data row0 col9\" >999.00</td>\n",
       "      <td id=\"T_a3a8c_row0_col10\" class=\"data row0 col10\" >999.00</td>\n",
       "    </tr>\n",
       "    <tr>\n",
       "      <th id=\"T_a3a8c_level0_row1\" class=\"row_heading level0 row1\" >k1</th>\n",
       "      <td id=\"T_a3a8c_row1_col0\" class=\"data row1 col0\" >0.00</td>\n",
       "      <td id=\"T_a3a8c_row1_col1\" class=\"data row1 col1\" >999.00</td>\n",
       "      <td id=\"T_a3a8c_row1_col2\" class=\"data row1 col2\" >999.00</td>\n",
       "      <td id=\"T_a3a8c_row1_col3\" class=\"data row1 col3\" >999.00</td>\n",
       "      <td id=\"T_a3a8c_row1_col4\" class=\"data row1 col4\" >999.00</td>\n",
       "      <td id=\"T_a3a8c_row1_col5\" class=\"data row1 col5\" >999.00</td>\n",
       "      <td id=\"T_a3a8c_row1_col6\" class=\"data row1 col6\" >999.00</td>\n",
       "      <td id=\"T_a3a8c_row1_col7\" class=\"data row1 col7\" >999.00</td>\n",
       "      <td id=\"T_a3a8c_row1_col8\" class=\"data row1 col8\" >999.00</td>\n",
       "      <td id=\"T_a3a8c_row1_col9\" class=\"data row1 col9\" >999.00</td>\n",
       "      <td id=\"T_a3a8c_row1_col10\" class=\"data row1 col10\" >999.00</td>\n",
       "    </tr>\n",
       "    <tr>\n",
       "      <th id=\"T_a3a8c_level0_row2\" class=\"row_heading level0 row2\" >k2</th>\n",
       "      <td id=\"T_a3a8c_row2_col0\" class=\"data row2 col0\" >0.00</td>\n",
       "      <td id=\"T_a3a8c_row2_col1\" class=\"data row2 col1\" >2.00</td>\n",
       "      <td id=\"T_a3a8c_row2_col2\" class=\"data row2 col2\" >2.00</td>\n",
       "      <td id=\"T_a3a8c_row2_col3\" class=\"data row2 col3\" >2.00</td>\n",
       "      <td id=\"T_a3a8c_row2_col4\" class=\"data row2 col4\" >2.00</td>\n",
       "      <td id=\"T_a3a8c_row2_col5\" class=\"data row2 col5\" >2.00</td>\n",
       "      <td id=\"T_a3a8c_row2_col6\" class=\"data row2 col6\" >2.00</td>\n",
       "      <td id=\"T_a3a8c_row2_col7\" class=\"data row2 col7\" >2.00</td>\n",
       "      <td id=\"T_a3a8c_row2_col8\" class=\"data row2 col8\" >2.00</td>\n",
       "      <td id=\"T_a3a8c_row2_col9\" class=\"data row2 col9\" >2.00</td>\n",
       "      <td id=\"T_a3a8c_row2_col10\" class=\"data row2 col10\" >999.00</td>\n",
       "    </tr>\n",
       "    <tr>\n",
       "      <th id=\"T_a3a8c_level0_row3\" class=\"row_heading level0 row3\" >k3</th>\n",
       "      <td id=\"T_a3a8c_row3_col0\" class=\"data row3 col0\" >0.00</td>\n",
       "      <td id=\"T_a3a8c_row3_col1\" class=\"data row3 col1\" >3.00</td>\n",
       "      <td id=\"T_a3a8c_row3_col2\" class=\"data row3 col2\" >2.33</td>\n",
       "      <td id=\"T_a3a8c_row3_col3\" class=\"data row3 col3\" >1.89</td>\n",
       "      <td id=\"T_a3a8c_row3_col4\" class=\"data row3 col4\" >1.59</td>\n",
       "      <td id=\"T_a3a8c_row3_col5\" class=\"data row3 col5\" >1.40</td>\n",
       "      <td id=\"T_a3a8c_row3_col6\" class=\"data row3 col6\" >1.26</td>\n",
       "      <td id=\"T_a3a8c_row3_col7\" class=\"data row3 col7\" >1.18</td>\n",
       "      <td id=\"T_a3a8c_row3_col8\" class=\"data row3 col8\" >1.12</td>\n",
       "      <td id=\"T_a3a8c_row3_col9\" class=\"data row3 col9\" >1.08</td>\n",
       "      <td id=\"T_a3a8c_row3_col10\" class=\"data row3 col10\" >1.05</td>\n",
       "    </tr>\n",
       "    <tr>\n",
       "      <th id=\"T_a3a8c_level0_row4\" class=\"row_heading level0 row4\" >k4</th>\n",
       "      <td id=\"T_a3a8c_row4_col0\" class=\"data row4 col0\" >0.00</td>\n",
       "      <td id=\"T_a3a8c_row4_col1\" class=\"data row4 col1\" >4.00</td>\n",
       "      <td id=\"T_a3a8c_row4_col2\" class=\"data row4 col2\" >4.00</td>\n",
       "      <td id=\"T_a3a8c_row4_col3\" class=\"data row4 col3\" >3.78</td>\n",
       "      <td id=\"T_a3a8c_row4_col4\" class=\"data row4 col4\" >3.48</td>\n",
       "      <td id=\"T_a3a8c_row4_col5\" class=\"data row4 col5\" >3.19</td>\n",
       "      <td id=\"T_a3a8c_row4_col6\" class=\"data row4 col6\" >2.92</td>\n",
       "      <td id=\"T_a3a8c_row4_col7\" class=\"data row4 col7\" >2.70</td>\n",
       "      <td id=\"T_a3a8c_row4_col8\" class=\"data row4 col8\" >2.53</td>\n",
       "      <td id=\"T_a3a8c_row4_col9\" class=\"data row4 col9\" >2.39</td>\n",
       "      <td id=\"T_a3a8c_row4_col10\" class=\"data row4 col10\" >2.29</td>\n",
       "    </tr>\n",
       "    <tr>\n",
       "      <th id=\"T_a3a8c_level0_row5\" class=\"row_heading level0 row5\" >k5</th>\n",
       "      <td id=\"T_a3a8c_row5_col0\" class=\"data row5 col0\" >0.00</td>\n",
       "      <td id=\"T_a3a8c_row5_col1\" class=\"data row5 col1\" >5.00</td>\n",
       "      <td id=\"T_a3a8c_row5_col2\" class=\"data row5 col2\" >5.00</td>\n",
       "      <td id=\"T_a3a8c_row5_col3\" class=\"data row5 col3\" >5.00</td>\n",
       "      <td id=\"T_a3a8c_row5_col4\" class=\"data row5 col4\" >4.93</td>\n",
       "      <td id=\"T_a3a8c_row5_col5\" class=\"data row5 col5\" >4.78</td>\n",
       "      <td id=\"T_a3a8c_row5_col6\" class=\"data row5 col6\" >4.58</td>\n",
       "      <td id=\"T_a3a8c_row5_col7\" class=\"data row5 col7\" >4.36</td>\n",
       "      <td id=\"T_a3a8c_row5_col8\" class=\"data row5 col8\" >4.14</td>\n",
       "      <td id=\"T_a3a8c_row5_col9\" class=\"data row5 col9\" >3.94</td>\n",
       "      <td id=\"T_a3a8c_row5_col10\" class=\"data row5 col10\" >3.75</td>\n",
       "    </tr>\n",
       "    <tr>\n",
       "      <th id=\"T_a3a8c_level0_row6\" class=\"row_heading level0 row6\" >k6</th>\n",
       "      <td id=\"T_a3a8c_row6_col0\" class=\"data row6 col0\" >0.00</td>\n",
       "      <td id=\"T_a3a8c_row6_col1\" class=\"data row6 col1\" >6.00</td>\n",
       "      <td id=\"T_a3a8c_row6_col2\" class=\"data row6 col2\" >6.00</td>\n",
       "      <td id=\"T_a3a8c_row6_col3\" class=\"data row6 col3\" >6.00</td>\n",
       "      <td id=\"T_a3a8c_row6_col4\" class=\"data row6 col4\" >6.00</td>\n",
       "      <td id=\"T_a3a8c_row6_col5\" class=\"data row6 col5\" >5.98</td>\n",
       "      <td id=\"T_a3a8c_row6_col6\" class=\"data row6 col6\" >5.91</td>\n",
       "      <td id=\"T_a3a8c_row6_col7\" class=\"data row6 col7\" >5.80</td>\n",
       "      <td id=\"T_a3a8c_row6_col8\" class=\"data row6 col8\" >5.65</td>\n",
       "      <td id=\"T_a3a8c_row6_col9\" class=\"data row6 col9\" >5.48</td>\n",
       "      <td id=\"T_a3a8c_row6_col10\" class=\"data row6 col10\" >5.30</td>\n",
       "    </tr>\n",
       "    <tr>\n",
       "      <th id=\"T_a3a8c_level0_row7\" class=\"row_heading level0 row7\" >k7</th>\n",
       "      <td id=\"T_a3a8c_row7_col0\" class=\"data row7 col0\" >0.00</td>\n",
       "      <td id=\"T_a3a8c_row7_col1\" class=\"data row7 col1\" >7.00</td>\n",
       "      <td id=\"T_a3a8c_row7_col2\" class=\"data row7 col2\" >7.00</td>\n",
       "      <td id=\"T_a3a8c_row7_col3\" class=\"data row7 col3\" >7.00</td>\n",
       "      <td id=\"T_a3a8c_row7_col4\" class=\"data row7 col4\" >7.00</td>\n",
       "      <td id=\"T_a3a8c_row7_col5\" class=\"data row7 col5\" >7.00</td>\n",
       "      <td id=\"T_a3a8c_row7_col6\" class=\"data row7 col6\" >6.99</td>\n",
       "      <td id=\"T_a3a8c_row7_col7\" class=\"data row7 col7\" >6.96</td>\n",
       "      <td id=\"T_a3a8c_row7_col8\" class=\"data row7 col8\" >6.91</td>\n",
       "      <td id=\"T_a3a8c_row7_col9\" class=\"data row7 col9\" >6.82</td>\n",
       "      <td id=\"T_a3a8c_row7_col10\" class=\"data row7 col10\" >6.71</td>\n",
       "    </tr>\n",
       "    <tr>\n",
       "      <th id=\"T_a3a8c_level0_row8\" class=\"row_heading level0 row8\" >k8</th>\n",
       "      <td id=\"T_a3a8c_row8_col0\" class=\"data row8 col0\" >0.00</td>\n",
       "      <td id=\"T_a3a8c_row8_col1\" class=\"data row8 col1\" >8.00</td>\n",
       "      <td id=\"T_a3a8c_row8_col2\" class=\"data row8 col2\" >8.00</td>\n",
       "      <td id=\"T_a3a8c_row8_col3\" class=\"data row8 col3\" >8.00</td>\n",
       "      <td id=\"T_a3a8c_row8_col4\" class=\"data row8 col4\" >8.00</td>\n",
       "      <td id=\"T_a3a8c_row8_col5\" class=\"data row8 col5\" >8.00</td>\n",
       "      <td id=\"T_a3a8c_row8_col6\" class=\"data row8 col6\" >8.00</td>\n",
       "      <td id=\"T_a3a8c_row8_col7\" class=\"data row8 col7\" >8.00</td>\n",
       "      <td id=\"T_a3a8c_row8_col8\" class=\"data row8 col8\" >7.99</td>\n",
       "      <td id=\"T_a3a8c_row8_col9\" class=\"data row8 col9\" >7.96</td>\n",
       "      <td id=\"T_a3a8c_row8_col10\" class=\"data row8 col10\" >7.92</td>\n",
       "    </tr>\n",
       "    <tr>\n",
       "      <th id=\"T_a3a8c_level0_row9\" class=\"row_heading level0 row9\" >k9</th>\n",
       "      <td id=\"T_a3a8c_row9_col0\" class=\"data row9 col0\" >0.00</td>\n",
       "      <td id=\"T_a3a8c_row9_col1\" class=\"data row9 col1\" >9.00</td>\n",
       "      <td id=\"T_a3a8c_row9_col2\" class=\"data row9 col2\" >9.00</td>\n",
       "      <td id=\"T_a3a8c_row9_col3\" class=\"data row9 col3\" >9.00</td>\n",
       "      <td id=\"T_a3a8c_row9_col4\" class=\"data row9 col4\" >9.00</td>\n",
       "      <td id=\"T_a3a8c_row9_col5\" class=\"data row9 col5\" >9.00</td>\n",
       "      <td id=\"T_a3a8c_row9_col6\" class=\"data row9 col6\" >9.00</td>\n",
       "      <td id=\"T_a3a8c_row9_col7\" class=\"data row9 col7\" >9.00</td>\n",
       "      <td id=\"T_a3a8c_row9_col8\" class=\"data row9 col8\" >9.00</td>\n",
       "      <td id=\"T_a3a8c_row9_col9\" class=\"data row9 col9\" >8.99</td>\n",
       "      <td id=\"T_a3a8c_row9_col10\" class=\"data row9 col10\" >8.98</td>\n",
       "    </tr>\n",
       "    <tr>\n",
       "      <th id=\"T_a3a8c_level0_row10\" class=\"row_heading level0 row10\" >k10</th>\n",
       "      <td id=\"T_a3a8c_row10_col0\" class=\"data row10 col0\" >0.00</td>\n",
       "      <td id=\"T_a3a8c_row10_col1\" class=\"data row10 col1\" >10.00</td>\n",
       "      <td id=\"T_a3a8c_row10_col2\" class=\"data row10 col2\" >10.00</td>\n",
       "      <td id=\"T_a3a8c_row10_col3\" class=\"data row10 col3\" >10.00</td>\n",
       "      <td id=\"T_a3a8c_row10_col4\" class=\"data row10 col4\" >10.00</td>\n",
       "      <td id=\"T_a3a8c_row10_col5\" class=\"data row10 col5\" >10.00</td>\n",
       "      <td id=\"T_a3a8c_row10_col6\" class=\"data row10 col6\" >10.00</td>\n",
       "      <td id=\"T_a3a8c_row10_col7\" class=\"data row10 col7\" >10.00</td>\n",
       "      <td id=\"T_a3a8c_row10_col8\" class=\"data row10 col8\" >10.00</td>\n",
       "      <td id=\"T_a3a8c_row10_col9\" class=\"data row10 col9\" >10.00</td>\n",
       "      <td id=\"T_a3a8c_row10_col10\" class=\"data row10 col10\" >10.00</td>\n",
       "    </tr>\n",
       "  </tbody>\n",
       "</table>\n"
      ],
      "text/plain": [
       "<pandas.io.formats.style.Styler at 0x257b443fee0>"
      ]
     },
     "execution_count": 30,
     "metadata": {},
     "output_type": "execute_result"
    }
   ],
   "source": [
    "num_iters, C, A = iterate(C, A, 1000, 0.000005)\n",
    "print(f\"This iterated {num_iters} times.\")\n",
    "display(C)"
   ]
  },
  {
   "cell_type": "code",
   "execution_count": 31,
   "metadata": {},
   "outputs": [
    {
     "name": "stdout",
     "output_type": "stream",
     "text": [
      "This iterated 1000 times.\n"
     ]
    },
    {
     "data": {
      "text/html": [
       "<style type=\"text/css\">\n",
       "#T_5728f_row0_col0, #T_5728f_row0_col10, #T_5728f_row1_col0, #T_5728f_row1_col1, #T_5728f_row1_col2, #T_5728f_row1_col3, #T_5728f_row1_col4, #T_5728f_row1_col5, #T_5728f_row1_col6, #T_5728f_row1_col7, #T_5728f_row1_col8, #T_5728f_row1_col9, #T_5728f_row1_col10, #T_5728f_row2_col0, #T_5728f_row2_col10, #T_5728f_row3_col0, #T_5728f_row3_col10, #T_5728f_row4_col0, #T_5728f_row4_col10, #T_5728f_row5_col0, #T_5728f_row5_col10, #T_5728f_row6_col0, #T_5728f_row6_col10, #T_5728f_row7_col0, #T_5728f_row7_col10, #T_5728f_row8_col0, #T_5728f_row8_col10, #T_5728f_row9_col0, #T_5728f_row9_col10, #T_5728f_row10_col0, #T_5728f_row10_col10 {\n",
       "  background-color: green;\n",
       "}\n",
       "</style>\n",
       "<table id=\"T_5728f\">\n",
       "  <thead>\n",
       "    <tr>\n",
       "      <th class=\"blank level0\" >&nbsp;</th>\n",
       "      <th id=\"T_5728f_level0_col0\" class=\"col_heading level0 col0\" >t0</th>\n",
       "      <th id=\"T_5728f_level0_col1\" class=\"col_heading level0 col1\" >t1</th>\n",
       "      <th id=\"T_5728f_level0_col2\" class=\"col_heading level0 col2\" >t2</th>\n",
       "      <th id=\"T_5728f_level0_col3\" class=\"col_heading level0 col3\" >t3</th>\n",
       "      <th id=\"T_5728f_level0_col4\" class=\"col_heading level0 col4\" >t4</th>\n",
       "      <th id=\"T_5728f_level0_col5\" class=\"col_heading level0 col5\" >t5</th>\n",
       "      <th id=\"T_5728f_level0_col6\" class=\"col_heading level0 col6\" >t6</th>\n",
       "      <th id=\"T_5728f_level0_col7\" class=\"col_heading level0 col7\" >t7</th>\n",
       "      <th id=\"T_5728f_level0_col8\" class=\"col_heading level0 col8\" >t8</th>\n",
       "      <th id=\"T_5728f_level0_col9\" class=\"col_heading level0 col9\" >t9</th>\n",
       "      <th id=\"T_5728f_level0_col10\" class=\"col_heading level0 col10\" >t10</th>\n",
       "    </tr>\n",
       "  </thead>\n",
       "  <tbody>\n",
       "    <tr>\n",
       "      <th id=\"T_5728f_level0_row0\" class=\"row_heading level0 row0\" >k0</th>\n",
       "      <td id=\"T_5728f_row0_col0\" class=\"data row0 col0\" >999.00</td>\n",
       "      <td id=\"T_5728f_row0_col1\" class=\"data row0 col1\" >999.00</td>\n",
       "      <td id=\"T_5728f_row0_col2\" class=\"data row0 col2\" >999.00</td>\n",
       "      <td id=\"T_5728f_row0_col3\" class=\"data row0 col3\" >999.00</td>\n",
       "      <td id=\"T_5728f_row0_col4\" class=\"data row0 col4\" >999.00</td>\n",
       "      <td id=\"T_5728f_row0_col5\" class=\"data row0 col5\" >999.00</td>\n",
       "      <td id=\"T_5728f_row0_col6\" class=\"data row0 col6\" >999.00</td>\n",
       "      <td id=\"T_5728f_row0_col7\" class=\"data row0 col7\" >999.00</td>\n",
       "      <td id=\"T_5728f_row0_col8\" class=\"data row0 col8\" >999.00</td>\n",
       "      <td id=\"T_5728f_row0_col9\" class=\"data row0 col9\" >999.00</td>\n",
       "      <td id=\"T_5728f_row0_col10\" class=\"data row0 col10\" >999.00</td>\n",
       "    </tr>\n",
       "    <tr>\n",
       "      <th id=\"T_5728f_level0_row1\" class=\"row_heading level0 row1\" >k1</th>\n",
       "      <td id=\"T_5728f_row1_col0\" class=\"data row1 col0\" >999.00</td>\n",
       "      <td id=\"T_5728f_row1_col1\" class=\"data row1 col1\" >2.89</td>\n",
       "      <td id=\"T_5728f_row1_col2\" class=\"data row1 col2\" >2.59</td>\n",
       "      <td id=\"T_5728f_row1_col3\" class=\"data row1 col3\" >2.40</td>\n",
       "      <td id=\"T_5728f_row1_col4\" class=\"data row1 col4\" >2.26</td>\n",
       "      <td id=\"T_5728f_row1_col5\" class=\"data row1 col5\" >2.18</td>\n",
       "      <td id=\"T_5728f_row1_col6\" class=\"data row1 col6\" >2.12</td>\n",
       "      <td id=\"T_5728f_row1_col7\" class=\"data row1 col7\" >2.08</td>\n",
       "      <td id=\"T_5728f_row1_col8\" class=\"data row1 col8\" >2.05</td>\n",
       "      <td id=\"T_5728f_row1_col9\" class=\"data row1 col9\" >2.05</td>\n",
       "      <td id=\"T_5728f_row1_col10\" class=\"data row1 col10\" >999.00</td>\n",
       "    </tr>\n",
       "    <tr>\n",
       "      <th id=\"T_5728f_level0_row2\" class=\"row_heading level0 row2\" >k2</th>\n",
       "      <td id=\"T_5728f_row2_col0\" class=\"data row2 col0\" >999.00</td>\n",
       "      <td id=\"T_5728f_row2_col1\" class=\"data row2 col1\" >5.19</td>\n",
       "      <td id=\"T_5728f_row2_col2\" class=\"data row2 col2\" >4.92</td>\n",
       "      <td id=\"T_5728f_row2_col3\" class=\"data row2 col3\" >4.70</td>\n",
       "      <td id=\"T_5728f_row2_col4\" class=\"data row2 col4\" >4.53</td>\n",
       "      <td id=\"T_5728f_row2_col5\" class=\"data row2 col5\" >4.39</td>\n",
       "      <td id=\"T_5728f_row2_col6\" class=\"data row2 col6\" >4.29</td>\n",
       "      <td id=\"T_5728f_row2_col7\" class=\"data row2 col7\" >4.29</td>\n",
       "      <td id=\"T_5728f_row2_col8\" class=\"data row2 col8\" >4.29</td>\n",
       "      <td id=\"T_5728f_row2_col9\" class=\"data row2 col9\" >4.29</td>\n",
       "      <td id=\"T_5728f_row2_col10\" class=\"data row2 col10\" >999.00</td>\n",
       "    </tr>\n",
       "    <tr>\n",
       "      <th id=\"T_5728f_level0_row3\" class=\"row_heading level0 row3\" >k3</th>\n",
       "      <td id=\"T_5728f_row3_col0\" class=\"data row3 col0\" >999.00</td>\n",
       "      <td id=\"T_5728f_row3_col1\" class=\"data row3 col1\" >7.36</td>\n",
       "      <td id=\"T_5728f_row3_col2\" class=\"data row3 col2\" >7.14</td>\n",
       "      <td id=\"T_5728f_row3_col3\" class=\"data row3 col3\" >6.94</td>\n",
       "      <td id=\"T_5728f_row3_col4\" class=\"data row3 col4\" >6.75</td>\n",
       "      <td id=\"T_5728f_row3_col5\" class=\"data row3 col5\" >6.75</td>\n",
       "      <td id=\"T_5728f_row3_col6\" class=\"data row3 col6\" >6.75</td>\n",
       "      <td id=\"T_5728f_row3_col7\" class=\"data row3 col7\" >6.75</td>\n",
       "      <td id=\"T_5728f_row3_col8\" class=\"data row3 col8\" >6.75</td>\n",
       "      <td id=\"T_5728f_row3_col9\" class=\"data row3 col9\" >6.75</td>\n",
       "      <td id=\"T_5728f_row3_col10\" class=\"data row3 col10\" >999.00</td>\n",
       "    </tr>\n",
       "    <tr>\n",
       "      <th id=\"T_5728f_level0_row4\" class=\"row_heading level0 row4\" >k4</th>\n",
       "      <td id=\"T_5728f_row4_col0\" class=\"data row4 col0\" >999.00</td>\n",
       "      <td id=\"T_5728f_row4_col1\" class=\"data row4 col1\" >9.48</td>\n",
       "      <td id=\"T_5728f_row4_col2\" class=\"data row4 col2\" >9.30</td>\n",
       "      <td id=\"T_5728f_row4_col3\" class=\"data row4 col3\" >9.30</td>\n",
       "      <td id=\"T_5728f_row4_col4\" class=\"data row4 col4\" >9.30</td>\n",
       "      <td id=\"T_5728f_row4_col5\" class=\"data row4 col5\" >9.30</td>\n",
       "      <td id=\"T_5728f_row4_col6\" class=\"data row4 col6\" >9.30</td>\n",
       "      <td id=\"T_5728f_row4_col7\" class=\"data row4 col7\" >9.30</td>\n",
       "      <td id=\"T_5728f_row4_col8\" class=\"data row4 col8\" >9.30</td>\n",
       "      <td id=\"T_5728f_row4_col9\" class=\"data row4 col9\" >9.30</td>\n",
       "      <td id=\"T_5728f_row4_col10\" class=\"data row4 col10\" >999.00</td>\n",
       "    </tr>\n",
       "    <tr>\n",
       "      <th id=\"T_5728f_level0_row5\" class=\"row_heading level0 row5\" >k5</th>\n",
       "      <td id=\"T_5728f_row5_col0\" class=\"data row5 col0\" >999.00</td>\n",
       "      <td id=\"T_5728f_row5_col1\" class=\"data row5 col1\" >11.71</td>\n",
       "      <td id=\"T_5728f_row5_col2\" class=\"data row5 col2\" >11.71</td>\n",
       "      <td id=\"T_5728f_row5_col3\" class=\"data row5 col3\" >11.71</td>\n",
       "      <td id=\"T_5728f_row5_col4\" class=\"data row5 col4\" >11.71</td>\n",
       "      <td id=\"T_5728f_row5_col5\" class=\"data row5 col5\" >11.71</td>\n",
       "      <td id=\"T_5728f_row5_col6\" class=\"data row5 col6\" >11.71</td>\n",
       "      <td id=\"T_5728f_row5_col7\" class=\"data row5 col7\" >11.71</td>\n",
       "      <td id=\"T_5728f_row5_col8\" class=\"data row5 col8\" >11.71</td>\n",
       "      <td id=\"T_5728f_row5_col9\" class=\"data row5 col9\" >11.71</td>\n",
       "      <td id=\"T_5728f_row5_col10\" class=\"data row5 col10\" >999.00</td>\n",
       "    </tr>\n",
       "    <tr>\n",
       "      <th id=\"T_5728f_level0_row6\" class=\"row_heading level0 row6\" >k6</th>\n",
       "      <td id=\"T_5728f_row6_col0\" class=\"data row6 col0\" >999.00</td>\n",
       "      <td id=\"T_5728f_row6_col1\" class=\"data row6 col1\" >13.92</td>\n",
       "      <td id=\"T_5728f_row6_col2\" class=\"data row6 col2\" >13.92</td>\n",
       "      <td id=\"T_5728f_row6_col3\" class=\"data row6 col3\" >13.92</td>\n",
       "      <td id=\"T_5728f_row6_col4\" class=\"data row6 col4\" >13.92</td>\n",
       "      <td id=\"T_5728f_row6_col5\" class=\"data row6 col5\" >13.92</td>\n",
       "      <td id=\"T_5728f_row6_col6\" class=\"data row6 col6\" >13.92</td>\n",
       "      <td id=\"T_5728f_row6_col7\" class=\"data row6 col7\" >13.92</td>\n",
       "      <td id=\"T_5728f_row6_col8\" class=\"data row6 col8\" >13.92</td>\n",
       "      <td id=\"T_5728f_row6_col9\" class=\"data row6 col9\" >13.92</td>\n",
       "      <td id=\"T_5728f_row6_col10\" class=\"data row6 col10\" >999.00</td>\n",
       "    </tr>\n",
       "    <tr>\n",
       "      <th id=\"T_5728f_level0_row7\" class=\"row_heading level0 row7\" >k7</th>\n",
       "      <td id=\"T_5728f_row7_col0\" class=\"data row7 col0\" >999.00</td>\n",
       "      <td id=\"T_5728f_row7_col1\" class=\"data row7 col1\" >15.98</td>\n",
       "      <td id=\"T_5728f_row7_col2\" class=\"data row7 col2\" >15.98</td>\n",
       "      <td id=\"T_5728f_row7_col3\" class=\"data row7 col3\" >15.98</td>\n",
       "      <td id=\"T_5728f_row7_col4\" class=\"data row7 col4\" >15.98</td>\n",
       "      <td id=\"T_5728f_row7_col5\" class=\"data row7 col5\" >15.98</td>\n",
       "      <td id=\"T_5728f_row7_col6\" class=\"data row7 col6\" >15.98</td>\n",
       "      <td id=\"T_5728f_row7_col7\" class=\"data row7 col7\" >15.98</td>\n",
       "      <td id=\"T_5728f_row7_col8\" class=\"data row7 col8\" >15.98</td>\n",
       "      <td id=\"T_5728f_row7_col9\" class=\"data row7 col9\" >15.98</td>\n",
       "      <td id=\"T_5728f_row7_col10\" class=\"data row7 col10\" >999.00</td>\n",
       "    </tr>\n",
       "    <tr>\n",
       "      <th id=\"T_5728f_level0_row8\" class=\"row_heading level0 row8\" >k8</th>\n",
       "      <td id=\"T_5728f_row8_col0\" class=\"data row8 col0\" >999.00</td>\n",
       "      <td id=\"T_5728f_row8_col1\" class=\"data row8 col1\" >18.00</td>\n",
       "      <td id=\"T_5728f_row8_col2\" class=\"data row8 col2\" >18.00</td>\n",
       "      <td id=\"T_5728f_row8_col3\" class=\"data row8 col3\" >18.00</td>\n",
       "      <td id=\"T_5728f_row8_col4\" class=\"data row8 col4\" >18.00</td>\n",
       "      <td id=\"T_5728f_row8_col5\" class=\"data row8 col5\" >18.00</td>\n",
       "      <td id=\"T_5728f_row8_col6\" class=\"data row8 col6\" >18.00</td>\n",
       "      <td id=\"T_5728f_row8_col7\" class=\"data row8 col7\" >18.00</td>\n",
       "      <td id=\"T_5728f_row8_col8\" class=\"data row8 col8\" >18.00</td>\n",
       "      <td id=\"T_5728f_row8_col9\" class=\"data row8 col9\" >18.00</td>\n",
       "      <td id=\"T_5728f_row8_col10\" class=\"data row8 col10\" >999.00</td>\n",
       "    </tr>\n",
       "    <tr>\n",
       "      <th id=\"T_5728f_level0_row9\" class=\"row_heading level0 row9\" >k9</th>\n",
       "      <td id=\"T_5728f_row9_col0\" class=\"data row9 col0\" >999.00</td>\n",
       "      <td id=\"T_5728f_row9_col1\" class=\"data row9 col1\" >999.00</td>\n",
       "      <td id=\"T_5728f_row9_col2\" class=\"data row9 col2\" >999.00</td>\n",
       "      <td id=\"T_5728f_row9_col3\" class=\"data row9 col3\" >999.00</td>\n",
       "      <td id=\"T_5728f_row9_col4\" class=\"data row9 col4\" >999.00</td>\n",
       "      <td id=\"T_5728f_row9_col5\" class=\"data row9 col5\" >999.00</td>\n",
       "      <td id=\"T_5728f_row9_col6\" class=\"data row9 col6\" >999.00</td>\n",
       "      <td id=\"T_5728f_row9_col7\" class=\"data row9 col7\" >999.00</td>\n",
       "      <td id=\"T_5728f_row9_col8\" class=\"data row9 col8\" >999.00</td>\n",
       "      <td id=\"T_5728f_row9_col9\" class=\"data row9 col9\" >999.00</td>\n",
       "      <td id=\"T_5728f_row9_col10\" class=\"data row9 col10\" >999.00</td>\n",
       "    </tr>\n",
       "    <tr>\n",
       "      <th id=\"T_5728f_level0_row10\" class=\"row_heading level0 row10\" >k10</th>\n",
       "      <td id=\"T_5728f_row10_col0\" class=\"data row10 col0\" >999.00</td>\n",
       "      <td id=\"T_5728f_row10_col1\" class=\"data row10 col1\" >999.00</td>\n",
       "      <td id=\"T_5728f_row10_col2\" class=\"data row10 col2\" >999.00</td>\n",
       "      <td id=\"T_5728f_row10_col3\" class=\"data row10 col3\" >999.00</td>\n",
       "      <td id=\"T_5728f_row10_col4\" class=\"data row10 col4\" >999.00</td>\n",
       "      <td id=\"T_5728f_row10_col5\" class=\"data row10 col5\" >999.00</td>\n",
       "      <td id=\"T_5728f_row10_col6\" class=\"data row10 col6\" >999.00</td>\n",
       "      <td id=\"T_5728f_row10_col7\" class=\"data row10 col7\" >999.00</td>\n",
       "      <td id=\"T_5728f_row10_col8\" class=\"data row10 col8\" >999.00</td>\n",
       "      <td id=\"T_5728f_row10_col9\" class=\"data row10 col9\" >999.00</td>\n",
       "      <td id=\"T_5728f_row10_col10\" class=\"data row10 col10\" >999.00</td>\n",
       "    </tr>\n",
       "  </tbody>\n",
       "</table>\n"
      ],
      "text/plain": [
       "<pandas.io.formats.style.Styler at 0x257b44690a0>"
      ]
     },
     "execution_count": 31,
     "metadata": {},
     "output_type": "execute_result"
    }
   ],
   "source": [
    "print(f\"This iterated {num_iters} times.\")\n",
    "display(A)"
   ]
  },
  {
   "cell_type": "markdown",
   "metadata": {
    "id": "QH78GXUBh6iJ"
   },
   "source": [
    "In the $(3, 3, 1, \\dots, 1)$ strategy it appears that the optimal initial material amount is $k=7$."
   ]
  },
  {
   "cell_type": "code",
   "execution_count": null,
   "metadata": {
    "id": "R8n1SmS6L9vH"
   },
   "outputs": [],
   "source": [
    "C = init_cost_mat((11,11))\n",
    "# This is a strategy where the first two refills are of size 3, then size 1 indefinitely afterwards\n",
    "strat = create_strategy(initial=[], default=3)"
   ]
  },
  {
   "cell_type": "code",
   "execution_count": null,
   "metadata": {
    "colab": {
     "base_uri": "https://localhost:8080/",
     "height": 394
    },
    "id": "dLK9wRdHMCPb",
    "outputId": "d3af4c65-b339-4e91-da32-1f6f583ba9ec"
   },
   "outputs": [],
   "source": [
    "C = step(C, strat)\n",
    "display(C)"
   ]
  },
  {
   "cell_type": "code",
   "execution_count": null,
   "metadata": {
    "id": "k4WFO5akwggx"
   },
   "outputs": [],
   "source": []
  }
 ],
 "metadata": {
  "colab": {
   "collapsed_sections": [],
   "provenance": []
  },
  "kernelspec": {
   "display_name": "Python 3",
   "language": "python",
   "name": "python3"
  },
  "language_info": {
   "codemirror_mode": {
    "name": "ipython",
    "version": 3
   },
   "file_extension": ".py",
   "mimetype": "text/x-python",
   "name": "python",
   "nbconvert_exporter": "python",
   "pygments_lexer": "ipython3",
   "version": "3.8.3"
  }
 },
 "nbformat": 4,
 "nbformat_minor": 1
}
